{
  "nbformat": 4,
  "nbformat_minor": 0,
  "metadata": {
    "kernelspec": {
      "display_name": "Python 3",
      "language": "python",
      "name": "python3"
    },
    "language_info": {
      "codemirror_mode": {
        "name": "ipython",
        "version": 3
      },
      "file_extension": ".py",
      "mimetype": "text/x-python",
      "name": "python",
      "nbconvert_exporter": "python",
      "pygments_lexer": "ipython3",
      "version": "3.7.3"
    },
    "colab": {
      "provenance": []
    }
  },
  "cells": [
    {
      "cell_type": "markdown",
      "metadata": {
        "id": "Tia3MP1SJpgj"
      },
      "source": [
        "# London Housing Case Study - Tier 3 Complete\n",
        "\n",
        "## Objectives\n",
        "Hey! Great job getting through those challenging DataCamp courses. You're learning a lot in a short span of time.\n",
        "\n",
        "In this notebook, you're going to apply the skills you've been learning, bridging the gap between the controlled environment of DataCamp and the *slightly* messier work that data scientists do with actual datasets!\n",
        "\n",
        "Here’s the mystery we’re going to solve: ***which boroughs of London have seen the greatest increase in housing prices, on average, over the last two decades?***\n",
        "\n",
        "\n",
        "A borough is just a fancy word for district. You may be familiar with the five boroughs of New York… well, there are 32 boroughs within Greater London [(here's some info for the curious)](https://en.wikipedia.org/wiki/London_boroughs). Some of them are more desirable areas to live in, and the data will reflect that with a greater rise in housing prices.\n",
        "\n",
        "***This is the Tier 3 notebook, which means it's not filled in at all: we'll just give you the skeleton of a project, the brief and the data. It's up to you to play around with it and see what you can find out! Good luck! If you struggle, feel free to look at easier tiers for help; but try to dip in and out of them, as the more independent work you do, the better it is for your learning!***\n",
        "\n",
        "This challenge will make use of only what you learned in the following DataCamp courses:\n",
        "- Prework courses (Introduction to Python for Data Science, Intermediate Python for Data Science)\n",
        "- Data Types for Data Science\n",
        "- Python Data Science Toolbox (Part One)\n",
        "- pandas Foundations\n",
        "- Manipulating DataFrames with pandas\n",
        "- Merging DataFrames with pandas\n",
        "\n",
        "Of the tools, techniques and concepts in the above DataCamp courses, this challenge should require the application of the following:\n",
        "- **pandas**\n",
        "    - **data ingestion and inspection** (pandas Foundations, Module One)\n",
        "    - **exploratory data analysis** (pandas Foundations, Module Two)\n",
        "    - **tidying and cleaning** (Manipulating DataFrames with pandas, Module Three)\n",
        "    - **transforming DataFrames** (Manipulating DataFrames with pandas, Module One)\n",
        "    - **subsetting DataFrames with lists** (Manipulating DataFrames with pandas, Module One)\n",
        "    - **filtering DataFrames** (Manipulating DataFrames with pandas, Module One)\n",
        "    - **grouping data** (Manipulating DataFrames with pandas, Module Four)\n",
        "    - **melting data** (Manipulating DataFrames with pandas, Module Three)\n",
        "    - **advanced indexing** (Manipulating DataFrames with pandas, Module Four)\n",
        "- **matplotlib** (Intermediate Python for Data Science, Module One)\n",
        "- **fundamental data types** (Data Types for Data Science, Module One)\n",
        "- **dictionaries** (Intermediate Python for Data Science, Module Two)\n",
        "- **handling dates and times** (Data Types for Data Science, Module Four)\n",
        "- **function definition** (Python Data Science Toolbox - Part One, Module One)\n",
        "- **default arguments, variable length, and scope** (Python Data Science Toolbox - Part One, Module Two)\n",
        "- **lambda functions and error handling** (Python Data Science Toolbox - Part One, Module Four)"
      ]
    },
    {
      "cell_type": "markdown",
      "metadata": {
        "id": "Ipgd2nV8Jpgl"
      },
      "source": [
        "## The Data Science Pipeline\n",
        "\n",
        "This is Tier Three, so we'll get you started. But after that, it's all in your hands! When you feel done with your investigations, look back over what you've accomplished, and prepare a quick presentation of your findings for the next mentor meeting.\n",
        "\n",
        "Data Science is magical. In this case study, you'll get to apply some complex machine learning algorithms. But as  [David Spiegelhalter](https://www.youtube.com/watch?v=oUs1uvsz0Ok) reminds us, there is no substitute for simply **taking a really, really good look at the data.** Sometimes, this is all we need to answer our question.\n",
        "\n",
        "Data Science projects generally adhere to the four stages of Data Science Pipeline:\n",
        "1. Sourcing and loading\n",
        "2. Cleaning, transforming, and visualizing\n",
        "3. Modeling\n",
        "4. Evaluating and concluding\n"
      ]
    },
    {
      "cell_type": "markdown",
      "metadata": {
        "id": "zswDqbefJpgm"
      },
      "source": [
        "### 1. Sourcing and Loading\n",
        "\n",
        "Any Data Science project kicks off by importing  ***pandas***. The documentation of this wonderful library can be found [here](https://pandas.pydata.org/). As you've seen, pandas is conveniently connected to the [Numpy](http://www.numpy.org/) and [Matplotlib](https://matplotlib.org/) libraries.\n",
        "\n",
        "***Hint:*** This part of the data science pipeline will test those skills you acquired in the pandas Foundations course, Module One."
      ]
    },
    {
      "cell_type": "markdown",
      "metadata": {
        "id": "aEau5nEvJpgm"
      },
      "source": [
        "#### 1.1. Importing Libraries"
      ]
    },
    {
      "cell_type": "code",
      "metadata": {
        "id": "7Bt_Q_oPJpgn"
      },
      "source": [
        "# Let's import the pandas, numpy libraries as pd, and np respectively.\n",
        "import pandas as pd\n",
        "import numpy as np\n",
        "\n",
        "# Load the pyplot collection of functions from matplotlib, as plt\n",
        "import matplotlib.pyplot as plt"
      ],
      "execution_count": 1,
      "outputs": []
    },
    {
      "cell_type": "markdown",
      "metadata": {
        "id": "koUrawxsJpgq"
      },
      "source": [
        "#### 1.2.  Loading the data\n",
        "Your data comes from the [London Datastore](https://data.london.gov.uk/): a free, open-source data-sharing portal for London-oriented datasets."
      ]
    },
    {
      "cell_type": "code",
      "metadata": {
        "id": "AiLiD4v3Jpgr"
      },
      "source": [
        "# First, make a variable called url_LondonHousePrices, and assign it the following link, enclosed in quotation-marks as a string:\n",
        "# https://data.london.gov.uk/download/uk-house-price-index/70ac0766-8902-4eb5-aab5-01951aaed773/UK%20House%20price%20index.xls\n",
        "\n",
        "url_LondonHousePrices = \"https://data.london.gov.uk/download/uk-house-price-index/70ac0766-8902-4eb5-aab5-01951aaed773/UK%20House%20price%20index.xls\"\n",
        "\n",
        "# The dataset we're interested in contains the Average prices of the houses, and is actually on a particular sheet of the Excel file.\n",
        "# As a result, we need to specify the sheet name in the read_excel() method.\n",
        "# Put this data into a variable called properties.\n",
        "properties = pd.read_excel(url_LondonHousePrices, sheet_name='Average price', index_col= None)"
      ],
      "execution_count": 4,
      "outputs": []
    },
    {
      "cell_type": "markdown",
      "metadata": {
        "id": "POukEJXgJpgu"
      },
      "source": [
        "### 2. Cleaning, transforming, and visualizing\n",
        "This second stage is arguably the most important part of any Data Science project. The first thing to do is take a proper look at the data. Cleaning forms the majority of this stage, and can be done both before or after Transformation.\n",
        "\n",
        "The end goal of data cleaning is to have tidy data. When data is tidy:\n",
        "\n",
        "1. Each variable has a column.\n",
        "2. Each observation forms a row.\n",
        "\n",
        "Keep the end goal in mind as you move through this process, every step will take you closer.\n",
        "\n",
        "\n",
        "\n",
        "***Hint:*** This part of the data science pipeline should test those skills you acquired in:\n",
        "- Intermediate Python for data science, all modules.\n",
        "- pandas Foundations, all modules.\n",
        "- Manipulating DataFrames with pandas, all modules.\n",
        "- Data Types for Data Science, Module Four.\n",
        "- Python Data Science Toolbox - Part One, all modules"
      ]
    },
    {
      "cell_type": "markdown",
      "metadata": {
        "id": "Te0Q548tnzZa"
      },
      "source": [
        "**2.1. Exploring your data**\n",
        "\n",
        "Think about your pandas functions for checking out a dataframe."
      ]
    },
    {
      "cell_type": "code",
      "metadata": {
        "id": "Rxirxw_qoAJa",
        "colab": {
          "base_uri": "https://localhost:8080/",
          "height": 1000
        },
        "outputId": "6d21c23b-30f9-490b-b01e-bcceef1451ea"
      },
      "source": [
        "print(properties.head())\n",
        "properties.info()\n",
        "properties.describe()\n",
        "\n"
      ],
      "execution_count": 6,
      "outputs": [
        {
          "output_type": "stream",
          "name": "stdout",
          "text": [
            "  Unnamed: 0 City of London Barking & Dagenham       Barnet       Bexley  \\\n",
            "0        NaT      E09000001          E09000002    E09000003    E09000004   \n",
            "1 1995-01-01    91448.98487         50460.2266  93284.51832  64958.09036   \n",
            "2 1995-02-01    82202.77314        51085.77983  93190.16963  64787.92069   \n",
            "3 1995-03-01    79120.70256        51268.96956  92247.52435  64367.49344   \n",
            "4 1995-04-01    77101.20804        53133.50526  90762.87492  64277.66881   \n",
            "\n",
            "         Brent      Bromley       Camden      Croydon       Ealing  ...  \\\n",
            "0    E09000005    E09000006    E09000007    E09000008    E09000009  ...   \n",
            "1  71306.56698  81671.47692  120932.8881  69158.16225  79885.89069  ...   \n",
            "2  72022.26197  81657.55944  119508.8622  68951.09542  80897.06551  ...   \n",
            "3  72015.76274  81449.31143  120282.2131  68712.44341  81379.86288  ...   \n",
            "4  72965.63094  81124.41227   120097.899  68610.04641  82188.90498  ...   \n",
            "\n",
            "    NORTH WEST YORKS & THE HUMBER EAST MIDLANDS WEST MIDLANDS EAST OF ENGLAND  \\\n",
            "0    E12000002          E12000003     E12000004     E12000005       E12000006   \n",
            "1  43958.48001        44803.42878   45544.52227   48527.52339      56701.5961   \n",
            "2  43925.42289        44528.80721   46051.57066   49341.29029     56593.59475   \n",
            "3   44434.8681        45200.46775   45383.82395   49442.17973     56171.18278   \n",
            "4   44267.7796        45614.34341   46124.23045   49455.93299     56567.89582   \n",
            "\n",
            "        LONDON   SOUTH EAST   SOUTH WEST Unnamed: 47      England  \n",
            "0    E12000007    E12000008    E12000009         NaN    E92000001  \n",
            "1  74435.76052  64018.87894   54705.1579         NaN  53202.77128  \n",
            "2  72777.93709  63715.02399  54356.14843         NaN   53096.1549  \n",
            "3  73896.84204  64113.60858  53583.07667         NaN   53201.2843  \n",
            "4  74455.28754  64623.22395  54786.01938         NaN   53590.8548  \n",
            "\n",
            "[5 rows x 49 columns]\n",
            "<class 'pandas.core.frame.DataFrame'>\n",
            "RangeIndex: 349 entries, 0 to 348\n",
            "Data columns (total 49 columns):\n",
            " #   Column                Non-Null Count  Dtype         \n",
            "---  ------                --------------  -----         \n",
            " 0   Unnamed: 0            348 non-null    datetime64[ns]\n",
            " 1   City of London        349 non-null    object        \n",
            " 2   Barking & Dagenham    349 non-null    object        \n",
            " 3   Barnet                349 non-null    object        \n",
            " 4   Bexley                349 non-null    object        \n",
            " 5   Brent                 349 non-null    object        \n",
            " 6   Bromley               349 non-null    object        \n",
            " 7   Camden                349 non-null    object        \n",
            " 8   Croydon               349 non-null    object        \n",
            " 9   Ealing                349 non-null    object        \n",
            " 10  Enfield               349 non-null    object        \n",
            " 11  Greenwich             349 non-null    object        \n",
            " 12  Hackney               349 non-null    object        \n",
            " 13  Hammersmith & Fulham  349 non-null    object        \n",
            " 14  Haringey              349 non-null    object        \n",
            " 15  Harrow                349 non-null    object        \n",
            " 16  Havering              349 non-null    object        \n",
            " 17  Hillingdon            349 non-null    object        \n",
            " 18  Hounslow              349 non-null    object        \n",
            " 19  Islington             349 non-null    object        \n",
            " 20  Kensington & Chelsea  349 non-null    object        \n",
            " 21  Kingston upon Thames  349 non-null    object        \n",
            " 22  Lambeth               349 non-null    object        \n",
            " 23  Lewisham              349 non-null    object        \n",
            " 24  Merton                349 non-null    object        \n",
            " 25  Newham                349 non-null    object        \n",
            " 26  Redbridge             349 non-null    object        \n",
            " 27  Richmond upon Thames  349 non-null    object        \n",
            " 28  Southwark             349 non-null    object        \n",
            " 29  Sutton                349 non-null    object        \n",
            " 30  Tower Hamlets         349 non-null    object        \n",
            " 31  Waltham Forest        349 non-null    object        \n",
            " 32  Wandsworth            349 non-null    object        \n",
            " 33  Westminster           349 non-null    object        \n",
            " 34  Unnamed: 34           0 non-null      float64       \n",
            " 35  Inner London          349 non-null    object        \n",
            " 36  Outer London          349 non-null    object        \n",
            " 37  Unnamed: 37           0 non-null      float64       \n",
            " 38  NORTH EAST            349 non-null    object        \n",
            " 39  NORTH WEST            349 non-null    object        \n",
            " 40  YORKS & THE HUMBER    349 non-null    object        \n",
            " 41  EAST MIDLANDS         349 non-null    object        \n",
            " 42  WEST MIDLANDS         349 non-null    object        \n",
            " 43  EAST OF ENGLAND       349 non-null    object        \n",
            " 44  LONDON                349 non-null    object        \n",
            " 45  SOUTH EAST            349 non-null    object        \n",
            " 46  SOUTH WEST            349 non-null    object        \n",
            " 47  Unnamed: 47           0 non-null      float64       \n",
            " 48  England               349 non-null    object        \n",
            "dtypes: datetime64[ns](1), float64(3), object(45)\n",
            "memory usage: 133.7+ KB\n"
          ]
        },
        {
          "output_type": "execute_result",
          "data": {
            "text/plain": [
              "       Unnamed: 34  Unnamed: 37  Unnamed: 47\n",
              "count          0.0          0.0          0.0\n",
              "mean           NaN          NaN          NaN\n",
              "std            NaN          NaN          NaN\n",
              "min            NaN          NaN          NaN\n",
              "25%            NaN          NaN          NaN\n",
              "50%            NaN          NaN          NaN\n",
              "75%            NaN          NaN          NaN\n",
              "max            NaN          NaN          NaN"
            ],
            "text/html": [
              "\n",
              "  <div id=\"df-fa9b1361-bcdf-4b1d-b53f-b8bb180b76e6\" class=\"colab-df-container\">\n",
              "    <div>\n",
              "<style scoped>\n",
              "    .dataframe tbody tr th:only-of-type {\n",
              "        vertical-align: middle;\n",
              "    }\n",
              "\n",
              "    .dataframe tbody tr th {\n",
              "        vertical-align: top;\n",
              "    }\n",
              "\n",
              "    .dataframe thead th {\n",
              "        text-align: right;\n",
              "    }\n",
              "</style>\n",
              "<table border=\"1\" class=\"dataframe\">\n",
              "  <thead>\n",
              "    <tr style=\"text-align: right;\">\n",
              "      <th></th>\n",
              "      <th>Unnamed: 34</th>\n",
              "      <th>Unnamed: 37</th>\n",
              "      <th>Unnamed: 47</th>\n",
              "    </tr>\n",
              "  </thead>\n",
              "  <tbody>\n",
              "    <tr>\n",
              "      <th>count</th>\n",
              "      <td>0.0</td>\n",
              "      <td>0.0</td>\n",
              "      <td>0.0</td>\n",
              "    </tr>\n",
              "    <tr>\n",
              "      <th>mean</th>\n",
              "      <td>NaN</td>\n",
              "      <td>NaN</td>\n",
              "      <td>NaN</td>\n",
              "    </tr>\n",
              "    <tr>\n",
              "      <th>std</th>\n",
              "      <td>NaN</td>\n",
              "      <td>NaN</td>\n",
              "      <td>NaN</td>\n",
              "    </tr>\n",
              "    <tr>\n",
              "      <th>min</th>\n",
              "      <td>NaN</td>\n",
              "      <td>NaN</td>\n",
              "      <td>NaN</td>\n",
              "    </tr>\n",
              "    <tr>\n",
              "      <th>25%</th>\n",
              "      <td>NaN</td>\n",
              "      <td>NaN</td>\n",
              "      <td>NaN</td>\n",
              "    </tr>\n",
              "    <tr>\n",
              "      <th>50%</th>\n",
              "      <td>NaN</td>\n",
              "      <td>NaN</td>\n",
              "      <td>NaN</td>\n",
              "    </tr>\n",
              "    <tr>\n",
              "      <th>75%</th>\n",
              "      <td>NaN</td>\n",
              "      <td>NaN</td>\n",
              "      <td>NaN</td>\n",
              "    </tr>\n",
              "    <tr>\n",
              "      <th>max</th>\n",
              "      <td>NaN</td>\n",
              "      <td>NaN</td>\n",
              "      <td>NaN</td>\n",
              "    </tr>\n",
              "  </tbody>\n",
              "</table>\n",
              "</div>\n",
              "    <div class=\"colab-df-buttons\">\n",
              "\n",
              "  <div class=\"colab-df-container\">\n",
              "    <button class=\"colab-df-convert\" onclick=\"convertToInteractive('df-fa9b1361-bcdf-4b1d-b53f-b8bb180b76e6')\"\n",
              "            title=\"Convert this dataframe to an interactive table.\"\n",
              "            style=\"display:none;\">\n",
              "\n",
              "  <svg xmlns=\"http://www.w3.org/2000/svg\" height=\"24px\" viewBox=\"0 -960 960 960\">\n",
              "    <path d=\"M120-120v-720h720v720H120Zm60-500h600v-160H180v160Zm220 220h160v-160H400v160Zm0 220h160v-160H400v160ZM180-400h160v-160H180v160Zm440 0h160v-160H620v160ZM180-180h160v-160H180v160Zm440 0h160v-160H620v160Z\"/>\n",
              "  </svg>\n",
              "    </button>\n",
              "\n",
              "  <style>\n",
              "    .colab-df-container {\n",
              "      display:flex;\n",
              "      gap: 12px;\n",
              "    }\n",
              "\n",
              "    .colab-df-convert {\n",
              "      background-color: #E8F0FE;\n",
              "      border: none;\n",
              "      border-radius: 50%;\n",
              "      cursor: pointer;\n",
              "      display: none;\n",
              "      fill: #1967D2;\n",
              "      height: 32px;\n",
              "      padding: 0 0 0 0;\n",
              "      width: 32px;\n",
              "    }\n",
              "\n",
              "    .colab-df-convert:hover {\n",
              "      background-color: #E2EBFA;\n",
              "      box-shadow: 0px 1px 2px rgba(60, 64, 67, 0.3), 0px 1px 3px 1px rgba(60, 64, 67, 0.15);\n",
              "      fill: #174EA6;\n",
              "    }\n",
              "\n",
              "    .colab-df-buttons div {\n",
              "      margin-bottom: 4px;\n",
              "    }\n",
              "\n",
              "    [theme=dark] .colab-df-convert {\n",
              "      background-color: #3B4455;\n",
              "      fill: #D2E3FC;\n",
              "    }\n",
              "\n",
              "    [theme=dark] .colab-df-convert:hover {\n",
              "      background-color: #434B5C;\n",
              "      box-shadow: 0px 1px 3px 1px rgba(0, 0, 0, 0.15);\n",
              "      filter: drop-shadow(0px 1px 2px rgba(0, 0, 0, 0.3));\n",
              "      fill: #FFFFFF;\n",
              "    }\n",
              "  </style>\n",
              "\n",
              "    <script>\n",
              "      const buttonEl =\n",
              "        document.querySelector('#df-fa9b1361-bcdf-4b1d-b53f-b8bb180b76e6 button.colab-df-convert');\n",
              "      buttonEl.style.display =\n",
              "        google.colab.kernel.accessAllowed ? 'block' : 'none';\n",
              "\n",
              "      async function convertToInteractive(key) {\n",
              "        const element = document.querySelector('#df-fa9b1361-bcdf-4b1d-b53f-b8bb180b76e6');\n",
              "        const dataTable =\n",
              "          await google.colab.kernel.invokeFunction('convertToInteractive',\n",
              "                                                    [key], {});\n",
              "        if (!dataTable) return;\n",
              "\n",
              "        const docLinkHtml = 'Like what you see? Visit the ' +\n",
              "          '<a target=\"_blank\" href=https://colab.research.google.com/notebooks/data_table.ipynb>data table notebook</a>'\n",
              "          + ' to learn more about interactive tables.';\n",
              "        element.innerHTML = '';\n",
              "        dataTable['output_type'] = 'display_data';\n",
              "        await google.colab.output.renderOutput(dataTable, element);\n",
              "        const docLink = document.createElement('div');\n",
              "        docLink.innerHTML = docLinkHtml;\n",
              "        element.appendChild(docLink);\n",
              "      }\n",
              "    </script>\n",
              "  </div>\n",
              "\n",
              "\n",
              "<div id=\"df-507b1c5c-8997-4a3a-a3cd-e3653ce4e1c7\">\n",
              "  <button class=\"colab-df-quickchart\" onclick=\"quickchart('df-507b1c5c-8997-4a3a-a3cd-e3653ce4e1c7')\"\n",
              "            title=\"Suggest charts\"\n",
              "            style=\"display:none;\">\n",
              "\n",
              "<svg xmlns=\"http://www.w3.org/2000/svg\" height=\"24px\"viewBox=\"0 0 24 24\"\n",
              "     width=\"24px\">\n",
              "    <g>\n",
              "        <path d=\"M19 3H5c-1.1 0-2 .9-2 2v14c0 1.1.9 2 2 2h14c1.1 0 2-.9 2-2V5c0-1.1-.9-2-2-2zM9 17H7v-7h2v7zm4 0h-2V7h2v10zm4 0h-2v-4h2v4z\"/>\n",
              "    </g>\n",
              "</svg>\n",
              "  </button>\n",
              "\n",
              "<style>\n",
              "  .colab-df-quickchart {\n",
              "      --bg-color: #E8F0FE;\n",
              "      --fill-color: #1967D2;\n",
              "      --hover-bg-color: #E2EBFA;\n",
              "      --hover-fill-color: #174EA6;\n",
              "      --disabled-fill-color: #AAA;\n",
              "      --disabled-bg-color: #DDD;\n",
              "  }\n",
              "\n",
              "  [theme=dark] .colab-df-quickchart {\n",
              "      --bg-color: #3B4455;\n",
              "      --fill-color: #D2E3FC;\n",
              "      --hover-bg-color: #434B5C;\n",
              "      --hover-fill-color: #FFFFFF;\n",
              "      --disabled-bg-color: #3B4455;\n",
              "      --disabled-fill-color: #666;\n",
              "  }\n",
              "\n",
              "  .colab-df-quickchart {\n",
              "    background-color: var(--bg-color);\n",
              "    border: none;\n",
              "    border-radius: 50%;\n",
              "    cursor: pointer;\n",
              "    display: none;\n",
              "    fill: var(--fill-color);\n",
              "    height: 32px;\n",
              "    padding: 0;\n",
              "    width: 32px;\n",
              "  }\n",
              "\n",
              "  .colab-df-quickchart:hover {\n",
              "    background-color: var(--hover-bg-color);\n",
              "    box-shadow: 0 1px 2px rgba(60, 64, 67, 0.3), 0 1px 3px 1px rgba(60, 64, 67, 0.15);\n",
              "    fill: var(--button-hover-fill-color);\n",
              "  }\n",
              "\n",
              "  .colab-df-quickchart-complete:disabled,\n",
              "  .colab-df-quickchart-complete:disabled:hover {\n",
              "    background-color: var(--disabled-bg-color);\n",
              "    fill: var(--disabled-fill-color);\n",
              "    box-shadow: none;\n",
              "  }\n",
              "\n",
              "  .colab-df-spinner {\n",
              "    border: 2px solid var(--fill-color);\n",
              "    border-color: transparent;\n",
              "    border-bottom-color: var(--fill-color);\n",
              "    animation:\n",
              "      spin 1s steps(1) infinite;\n",
              "  }\n",
              "\n",
              "  @keyframes spin {\n",
              "    0% {\n",
              "      border-color: transparent;\n",
              "      border-bottom-color: var(--fill-color);\n",
              "      border-left-color: var(--fill-color);\n",
              "    }\n",
              "    20% {\n",
              "      border-color: transparent;\n",
              "      border-left-color: var(--fill-color);\n",
              "      border-top-color: var(--fill-color);\n",
              "    }\n",
              "    30% {\n",
              "      border-color: transparent;\n",
              "      border-left-color: var(--fill-color);\n",
              "      border-top-color: var(--fill-color);\n",
              "      border-right-color: var(--fill-color);\n",
              "    }\n",
              "    40% {\n",
              "      border-color: transparent;\n",
              "      border-right-color: var(--fill-color);\n",
              "      border-top-color: var(--fill-color);\n",
              "    }\n",
              "    60% {\n",
              "      border-color: transparent;\n",
              "      border-right-color: var(--fill-color);\n",
              "    }\n",
              "    80% {\n",
              "      border-color: transparent;\n",
              "      border-right-color: var(--fill-color);\n",
              "      border-bottom-color: var(--fill-color);\n",
              "    }\n",
              "    90% {\n",
              "      border-color: transparent;\n",
              "      border-bottom-color: var(--fill-color);\n",
              "    }\n",
              "  }\n",
              "</style>\n",
              "\n",
              "  <script>\n",
              "    async function quickchart(key) {\n",
              "      const quickchartButtonEl =\n",
              "        document.querySelector('#' + key + ' button');\n",
              "      quickchartButtonEl.disabled = true;  // To prevent multiple clicks.\n",
              "      quickchartButtonEl.classList.add('colab-df-spinner');\n",
              "      try {\n",
              "        const charts = await google.colab.kernel.invokeFunction(\n",
              "            'suggestCharts', [key], {});\n",
              "      } catch (error) {\n",
              "        console.error('Error during call to suggestCharts:', error);\n",
              "      }\n",
              "      quickchartButtonEl.classList.remove('colab-df-spinner');\n",
              "      quickchartButtonEl.classList.add('colab-df-quickchart-complete');\n",
              "    }\n",
              "    (() => {\n",
              "      let quickchartButtonEl =\n",
              "        document.querySelector('#df-507b1c5c-8997-4a3a-a3cd-e3653ce4e1c7 button');\n",
              "      quickchartButtonEl.style.display =\n",
              "        google.colab.kernel.accessAllowed ? 'block' : 'none';\n",
              "    })();\n",
              "  </script>\n",
              "</div>\n",
              "\n",
              "    </div>\n",
              "  </div>\n"
            ],
            "application/vnd.google.colaboratory.intrinsic+json": {
              "type": "dataframe",
              "summary": "{\n  \"name\": \"properties\",\n  \"rows\": 8,\n  \"fields\": [\n    {\n      \"column\": \"Unnamed: 34\",\n      \"properties\": {\n        \"dtype\": \"number\",\n        \"std\": null,\n        \"min\": 0.0,\n        \"max\": 0.0,\n        \"num_unique_values\": 1,\n        \"samples\": [\n          0.0\n        ],\n        \"semantic_type\": \"\",\n        \"description\": \"\"\n      }\n    },\n    {\n      \"column\": \"Unnamed: 37\",\n      \"properties\": {\n        \"dtype\": \"number\",\n        \"std\": null,\n        \"min\": 0.0,\n        \"max\": 0.0,\n        \"num_unique_values\": 1,\n        \"samples\": [\n          0.0\n        ],\n        \"semantic_type\": \"\",\n        \"description\": \"\"\n      }\n    },\n    {\n      \"column\": \"Unnamed: 47\",\n      \"properties\": {\n        \"dtype\": \"number\",\n        \"std\": null,\n        \"min\": 0.0,\n        \"max\": 0.0,\n        \"num_unique_values\": 1,\n        \"samples\": [\n          0.0\n        ],\n        \"semantic_type\": \"\",\n        \"description\": \"\"\n      }\n    }\n  ]\n}"
            }
          },
          "metadata": {},
          "execution_count": 6
        }
      ]
    },
    {
      "cell_type": "markdown",
      "metadata": {
        "id": "tE9Sqt9-oAta"
      },
      "source": [
        "**2.2. Cleaning the data**\n",
        "\n",
        "You might find you need to transpose your dataframe, check out what its row indexes are, and reset the index. You  also might find you need to assign the values of the first row to your column headings  . (Hint: recall the .columns feature of DataFrames, as well as the iloc[] method).\n",
        "\n",
        "Don't be afraid to use StackOverflow for help  with this."
      ]
    },
    {
      "cell_type": "code",
      "metadata": {
        "id": "cdAu1A3YoH_r"
      },
      "source": [
        "# Drop columns named 'Unnamed: 34' and 'Unnamed: 37' and 'Unnamed: 47'\n",
        "properties_dropped = properties.drop(columns=['Unnamed: 34', 'Unnamed: 37', 'Unnamed: 47', ])\n",
        "\n",
        "#  Rename first row to BoroughID\n",
        "properties_dropped.iloc[0, 0] = 'BoroughID'\n",
        "\n",
        "print(properties_dropped.head())\n",
        "properties_dropped.describe()\n",
        "properties_dropped.to_excel('LondonHousePricesDropped2.xlsx')"
      ],
      "execution_count": null,
      "outputs": []
    },
    {
      "cell_type": "markdown",
      "metadata": {
        "id": "o1uLbJAsoIjK"
      },
      "source": [
        "**2.3. Cleaning the data (part 2)**\n",
        "\n",
        "You might we have to **rename** a couple columns. How do you do this? The clue's pretty bold..."
      ]
    },
    {
      "cell_type": "code",
      "metadata": {
        "id": "GKkmn1AnoVZS"
      },
      "source": [
        "#  Transpose dataframe\n",
        "props_transposed = properties_dropped.transpose()\n",
        "\n",
        "#  Rename the first column 'Borough' directly\n",
        "props_transposed.index.values[0] = 'Borough'\n",
        "\n",
        "print(props_transposed.head())\n",
        "props_transposed.describe()\n",
        "# properties_dropped.info()\n",
        "\n",
        "# Clean data: Deleted blank columns, renamed the relevant rows and columns\n",
        "#  Save to excel\n",
        "props_transposed.to_excel('LondonHousePricesTransposed.xlsx')\n",
        "props_transposed.to_excel('LondonHousePricesTransposedCleanCopy.xlsx')\n",
        "\n",
        "\n",
        "# Renaming was also done in cells above\n",
        "\n",
        "# ensuring no nulls\n",
        "# Count null values per column\n",
        "null_per_column = props_transposed.isnull().sum()\n",
        "\n",
        "# Total count of null values in the DataFrame\n",
        "total_null = props_transposed.isnull().sum().sum()\n",
        "\n",
        "print(null_per_column)\n",
        "print(\"Total null values in the DataFrame:\", total_null)"
      ],
      "execution_count": null,
      "outputs": []
    },
    {
      "cell_type": "markdown",
      "metadata": {
        "id": "jy8BzXHmoWEw"
      },
      "source": [
        "**2.4.Transforming the data**\n",
        "\n",
        "Remember what Wes McKinney said about tidy data?\n",
        "\n",
        "You might need to **melt** your DataFrame here."
      ]
    },
    {
      "cell_type": "code",
      "metadata": {
        "id": "S2wM0qLuo2Zt"
      },
      "source": [
        "import pandas as pd\n",
        "\n",
        "# Load the Excel file into a pandas DataFrame\n",
        "# df =               pd.read_excel(\"LondonHousePricesTransposedCleanCopy.xlsx\")\n",
        "df = props_transposed\n",
        "\n",
        "print(df.head())\n",
        "\n",
        "# Melt the dataframe to transform it from wide format to long format\n",
        "# Melt the DataFrame to make it longer and more suitable for analysis\n",
        "# Assuming the first row of the DataFrame should be used as column headers\n",
        "\n",
        "# First, properly set the DataFrame headers\n",
        "new_header = df.iloc[0] # Take the first row for the header\n",
        "print(new_header)\n",
        "df = df[1:] # Take the data less the header row\n",
        "df.columns = new_header # Set the header row as the df header\n",
        "df.head()\n",
        "# Melt the DataFrame\n",
        "df_melted = df.melt(id_vars=[\"BoroughID\"], var_name=\"Date\", value_name=\"Price\", ignore_index=False)\n",
        "\n",
        "df_melted.head()\n",
        "\n"
      ],
      "execution_count": null,
      "outputs": []
    },
    {
      "cell_type": "markdown",
      "metadata": {
        "id": "7kIsgAo7o3mf"
      },
      "source": [
        "Remember to make sure your column data types are all correct. Average prices, for example, should be floating point numbers..."
      ]
    },
    {
      "cell_type": "code",
      "metadata": {
        "id": "ZcR4IHbcpOaq",
        "colab": {
          "base_uri": "https://localhost:8080/"
        },
        "outputId": "7bcd81df-04d6-431e-bef7-729985b81b15"
      },
      "source": [
        "\n",
        "# Convert the 'Price' column to a floating point type\n",
        "df_melted['Price'] = pd.to_numeric(df_melted['Price'], errors='coerce')\n",
        "\n",
        "# Convert the 'Date' column to a datetime64 type\n",
        "df_melted['Date'] = pd.to_datetime(df_melted['Date'], errors='coerce')\n",
        "\n",
        "# To check the data types of your DataFrame to confirm the 'Price' column is now float\n",
        "print(df_melted.dtypes)\n",
        "\n",
        "# Set index title\n",
        "print(df_melted.index.name)\n",
        "df_melted.index.name = 'Borough'\n",
        "print(df_melted.index.name)\n"
      ],
      "execution_count": 16,
      "outputs": [
        {
          "output_type": "stream",
          "name": "stdout",
          "text": [
            "BoroughID            object\n",
            "Date         datetime64[ns]\n",
            "Price               float64\n",
            "dtype: object\n",
            "None\n",
            "Borough\n"
          ]
        }
      ]
    },
    {
      "cell_type": "markdown",
      "metadata": {
        "id": "knLUXHLypOtw"
      },
      "source": [
        "**2.5. Cleaning the data (part 3)**\n",
        "\n",
        "Do we have an equal number of observations in the ID, Average Price, Month, and London Borough columns? Remember that there are only 32 London Boroughs. How many entries do you have in that column?\n",
        "\n",
        "Check out the contents of the London Borough column, and if you find null values, get rid of them however you see fit."
      ]
    },
    {
      "cell_type": "code",
      "metadata": {
        "id": "BnvTW5a3p0fC"
      },
      "source": [
        "df_melted.info(verbose=True)\n",
        "df_melted.count(axis='columns')\n",
        "df_melted.count(axis='rows')\n",
        "df_melted.shape\n",
        "\n",
        "# Group by Borough\n",
        "df_grouped = df_melted.groupby('Borough')\n",
        "print(df_grouped.head(2))\n",
        "#\n",
        "# # Count the number of observations in each column for each borough in the 'Borough' column\n",
        "observations_per_borough = df_melted.groupby('Borough').count()\n",
        "print(observations_per_borough)\n"
      ],
      "execution_count": null,
      "outputs": []
    },
    {
      "cell_type": "markdown",
      "metadata": {
        "id": "PGEx6mJsp6dG"
      },
      "source": [
        "**2.6. Visualizing the data**\n",
        "\n",
        "To visualize the data, why not subset on a particular London Borough? Maybe do a line plot of Month against Average Price?"
      ]
    },
    {
      "cell_type": "code",
      "metadata": {
        "id": "nAg5pT9cqHAR",
        "colab": {
          "base_uri": "https://localhost:8080/",
          "height": 659
        },
        "outputId": "4ec8162f-5460-4fb6-9bb7-6c5d279f6535"
      },
      "source": [
        "print(df_melted.index.name)\n",
        "\n",
        "\n",
        "# barnet_data\n",
        "barnet_data = df_melted.filter(like='Barnet', axis=0)\n",
        "print(barnet_data.head())\n",
        "# Plotting\n",
        "plt.figure(figsize=(10, 6))\n",
        "plt.plot(barnet_data['Date'], barnet_data['Price'], label='Barnet')\n",
        "plt.xlabel('Month')\n",
        "plt.ylabel('Average Price')\n",
        "plt.title('Average Price Trend in Barnet')\n",
        "plt.legend()\n",
        "plt.show()"
      ],
      "execution_count": 21,
      "outputs": [
        {
          "output_type": "stream",
          "name": "stdout",
          "text": [
            "Borough\n",
            "         BoroughID       Date        Price\n",
            "Borough                                   \n",
            "Barnet   E09000003 1995-01-01  93284.51832\n",
            "Barnet   E09000003 1995-02-01  93190.16963\n",
            "Barnet   E09000003 1995-03-01  92247.52435\n",
            "Barnet   E09000003 1995-04-01  90762.87492\n",
            "Barnet   E09000003 1995-05-01  90258.00033\n"
          ]
        },
        {
          "output_type": "display_data",
          "data": {
            "text/plain": [
              "<Figure size 1000x600 with 1 Axes>"
            ],
            "image/png": "[encoded data removed]"
          },
          "metadata": {}
        }
      ]
    },
    {
      "cell_type": "markdown",
      "metadata": {
        "id": "aWTPqSJeqHnC"
      },
      "source": [
        "To limit the number of data points you have, you might want to extract the year from every month value your *Month* column.\n",
        "\n",
        "To this end, you *could* apply a ***lambda function***. Your logic could work as follows:\n",
        "1. look through the `Month` column\n",
        "2. extract the year from each individual value in that column\n",
        "3. store that corresponding year as separate column.\n",
        "\n",
        "Whether you go ahead with this is up to you. Just so long as you answer our initial brief: which boroughs of London have seen the greatest house price increase, on average, over the past two decades?"
      ]
    },
    {
      "cell_type": "code",
      "metadata": {
        "id": "e0DF92cyqnu8",
        "colab": {
          "base_uri": "https://localhost:8080/"
        },
        "outputId": "488d61eb-6206-4f40-f314-9c1b089e2db7"
      },
      "source": [
        "#  Extract 'Year' and plot again\n",
        "# Add a 'Year' column by extracting the year from the 'Date' column\n",
        "df_melted['Year'] = df_melted['Date'].dt.year\n",
        "df_melted_yr = df_melted.groupby('Borough')\n",
        "# Display the first five rows to confirm the 'Year' column has been added correctly\n",
        "print(df_melted_yr.head())\n",
        "\n",
        "print(df_melted.index.name)"
      ],
      "execution_count": 23,
      "outputs": [
        {
          "output_type": "stream",
          "name": "stdout",
          "text": [
            "                    BoroughID       Date        Price  Year\n",
            "Borough                                                    \n",
            "City of London      E09000001 1995-01-01  91448.98487  1995\n",
            "Barking & Dagenham  E09000002 1995-01-01  50460.22660  1995\n",
            "Barnet              E09000003 1995-01-01  93284.51832  1995\n",
            "Bexley              E09000004 1995-01-01  64958.09036  1995\n",
            "Brent               E09000005 1995-01-01  71306.56698  1995\n",
            "...                       ...        ...          ...   ...\n",
            "EAST OF ENGLAND     E12000006 1995-05-01  56479.80183  1995\n",
            "LONDON              E12000007 1995-05-01  75432.02786  1995\n",
            "SOUTH EAST          E12000008 1995-05-01  64530.36358  1995\n",
            "SOUTH WEST          E12000009 1995-05-01  54698.83831  1995\n",
            "England             E92000001 1995-05-01  53678.24041  1995\n",
            "\n",
            "[225 rows x 4 columns]\n",
            "Borough\n"
          ]
        }
      ]
    },
    {
      "cell_type": "markdown",
      "metadata": {
        "id": "2knuTxAEqoJ4"
      },
      "source": [
        "**3. Modeling**\n",
        "\n",
        "Consider creating a function that will calculate a ratio of house prices, comparing the price of a house in 2018 to the price in 1998.\n",
        "\n",
        "Consider calling this function create_price_ratio.\n",
        "\n",
        "You'd want this function to:\n",
        "1. Take a filter of dfg, specifically where this filter constrains the London_Borough, as an argument. For example, one admissible argument should be: dfg[dfg['London_Borough']=='Camden'].\n",
        "2. Get the Average Price for that Borough, for the years 1998 and 2018.\n",
        "4. Calculate the ratio of the Average Price for 1998 divided by the Average Price for 2018.\n",
        "5. Return that ratio.\n",
        "\n",
        "Once you've written this function, you ultimately want to use it to iterate through all the unique London_Boroughs and work out the ratio capturing the difference of house prices between 1998 and 2018.\n",
        "\n",
        "Bear in mind: you don't have to write a function like this if you don't want to. If you can solve the brief otherwise, then great!\n",
        "\n",
        "***Hint***: This section should test the skills you acquired in:\n",
        "- Python Data Science Toolbox - Part One, all modules"
      ]
    },
    {
      "cell_type": "code",
      "metadata": {
        "id": "cKTyr437UgDa",
        "colab": {
          "base_uri": "https://localhost:8080/"
        },
        "outputId": "666eaab4-e30e-4794-8c86-6c3dd91f5246"
      },
      "source": [
        "# Filter the DataFrame for the years 1998 and 2018\n",
        "filtered_years_df = df_melted[df_melted['Date'].dt.year.isin([1998, 2018])]\n",
        "\n",
        "# Calculate the average price for each borough and each year\n",
        "avg_prices_borough = filtered_years_df.groupby(['Borough', filtered_years_df['Date'].dt.year])['Price'].mean().unstack()\n",
        "\n",
        "# Calculate the ratio of 2018 to 1998 prices for each borough\n",
        "avg_prices_borough['PriceRatio'] = avg_prices_borough[2018] / avg_prices_borough[1998]\n",
        "\n",
        "# Sort the DataFrame by the price ratio in ascending order\n",
        "avg_prices_borough_sorted = avg_prices_borough.sort_values(by='PriceRatio', ascending=False)\n",
        "avg_prices_borough_sortedDesc = avg_prices_borough.sort_values(by='PriceRatio', ascending=True)\n",
        "print(avg_prices_borough_sorted.head())\n",
        "print(avg_prices_borough_sorted)\n",
        "\n",
        "# save output to csv\n",
        "avg_prices_borough_sorted.to_csv('LondonResProps1998To2018AvgPriceRatios')"
      ],
      "execution_count": 29,
      "outputs": [
        {
          "output_type": "stream",
          "name": "stdout",
          "text": [
            "Date                     1998          2018  PriceRatio\n",
            "Borough                                                \n",
            "Hackney          87869.535804  5.446405e+05    6.198286\n",
            "Waltham Forest   75557.474132  4.408594e+05    5.834756\n",
            "Southwark        91405.187779  5.042354e+05    5.516485\n",
            "Lewisham         75539.051649  4.116290e+05    5.449221\n",
            "Westminster     190531.949942  1.020025e+06    5.353565\n",
            "Date                           1998          2018  PriceRatio\n",
            "Borough                                                      \n",
            "Hackney                87869.535804  5.446405e+05    6.198286\n",
            "Waltham Forest         75557.474132  4.408594e+05    5.834756\n",
            "Southwark              91405.187779  5.042354e+05    5.516485\n",
            "Lewisham               75539.051649  4.116290e+05    5.449221\n",
            "Westminster           190531.949942  1.020025e+06    5.353565\n",
            "Newham                 67671.270763  3.590225e+05    5.305390\n",
            "City of London        148031.894542  7.848089e+05    5.301620\n",
            "Inner London          111588.676233  5.770091e+05    5.170858\n",
            "Haringey              107419.850108  5.515606e+05    5.134625\n",
            "Kensington & Chelsea  268350.122142  1.363880e+06    5.082465\n",
            "Lambeth               103179.118943  5.115364e+05    4.957751\n",
            "Camden                170688.973933  8.424104e+05    4.935353\n",
            "Barking & Dagenham     60285.821083  2.951967e+05    4.896619\n",
            "Brent                 100692.590417  4.928454e+05    4.894554\n",
            "Islington             134148.973300  6.498241e+05    4.844048\n",
            "Greenwich              81532.933366  3.883443e+05    4.763036\n",
            "Wandsworth            125406.807233  5.966491e+05    4.757709\n",
            "Merton                108049.855117  5.122939e+05    4.741273\n",
            "LONDON                102110.611596  4.778548e+05    4.679776\n",
            "Tower Hamlets          96505.166407  4.465006e+05    4.626701\n",
            "Redbridge              94514.395822  4.225911e+05    4.471182\n",
            "Outer London           96883.103923  4.281216e+05    4.418950\n",
            "Barnet                122359.468033  5.332665e+05    4.358196\n",
            "Havering               85602.087978  3.702488e+05    4.325230\n",
            "Ealing                111343.154650  4.800505e+05    4.311451\n",
            "Kingston upon Thames  116399.769158  4.970910e+05    4.270550\n",
            "Enfield                93030.224322  3.966317e+05    4.263472\n",
            "Bexley                 80632.020822  3.426036e+05    4.248977\n",
            "Croydon                88143.228830  3.702985e+05    4.201100\n",
            "Hillingdon             97676.048952  4.102661e+05    4.200273\n",
            "EAST OF ENGLAND        69729.638231  2.905565e+05    4.166901\n",
            "Hammersmith & Fulham  175340.921250  7.255253e+05    4.137798\n",
            "Sutton                 92087.045921  3.792626e+05    4.118523\n",
            "Bromley               108286.520467  4.434100e+05    4.094785\n",
            "Harrow                114778.250067  4.659075e+05    4.059196\n",
            "Richmond upon Thames  162956.066025  6.526654e+05    4.005162\n",
            "Hounslow               99746.069682  3.966312e+05    3.976409\n",
            "SOUTH EAST             84477.468631  3.234125e+05    3.828388\n",
            "England                64301.680243  2.450185e+05    3.810453\n",
            "SOUTH WEST             67022.959999  2.543855e+05    3.795497\n",
            "EAST MIDLANDS          52216.834470  1.896899e+05    3.632735\n",
            "NORTH WEST             47669.560677  1.603325e+05    3.363416\n",
            "YORKS & THE HUMBER     47655.883971  1.599362e+05    3.356065\n",
            "WEST MIDLANDS          56912.852352  1.884534e+05    3.311262\n",
            "NORTH EAST             45383.168937  1.283473e+05    2.828081\n"
          ]
        }
      ]
    },
    {
      "cell_type": "markdown",
      "metadata": {
        "id": "NzYUI7FxJpgv"
      },
      "source": [
        "### 4. Conclusion\n",
        "What can you conclude? Type out your conclusion below.\n",
        "\n",
        "Look back at your notebook. Think about how you might summarize what you have done, and prepare a quick presentation on it to your mentor at your next meeting.\n",
        "\n",
        "We hope you enjoyed this practical project. It should have consolidated your data hygiene and pandas skills by looking at a real-world problem involving just the kind of dataset you might encounter as a budding data scientist. Congratulations, and looking forward to seeing you at the next step in the course!\n",
        "\n",
        "### 4. Conclusion\n",
        "\n",
        "This analysis looked at average monthly prices of residential properties in London boroughs between the years 1995 and 2023 in order to find out which boroughs of London have seen the greatest increase in housing prices, on average, over the last two decades.  The analysis involved cleaning, transforming, visualizing and modeling the data using Python and the packages Pandas, Matplotlib and Numpy. The final output is a data table in csv format that ranks the London boroughs by the price ratio between 2018 and 1998, spanning to decades of price changes.\n",
        "\n",
        "The top 3 boroughs with the greatest average price increase between 1998 and 2018 are: Hackney, Waltham Forest and Southwark. The boroughs with the lowest are YORKS & THE HUMBER, WEST MIDLANDS and NORTH EAST.\n",
        "\n"
      ]
    },
    {
      "cell_type": "code",
      "source": [
        "\n",
        "# Plotting\n",
        "fig, ax = plt.subplots(figsize=(10, 8))\n",
        "avg_prices_borough_sortedDesc['PriceRatio'].plot(kind='barh', ax=ax)\n",
        "ax.set_xlabel('Price Ratio (2018/1998)')\n",
        "ax.set_ylabel('Borough')\n",
        "ax.set_title('Price Ratio of Average House Prices (2018 vs 1998) by Borough')\n",
        "plt.tight_layout()\n",
        "\n",
        "plt.show()"
      ],
      "metadata": {
        "colab": {
          "base_uri": "https://localhost:8080/",
          "height": 661
        },
        "id": "z30ceeccBi2H",
        "outputId": "d6009495-426d-468b-c814-eb809df6e1a0"
      },
      "execution_count": 28,
      "outputs": [
        {
          "output_type": "display_data",
          "data": {
            "text/plain": [
              "<Figure size 1000x800 with 1 Axes>"
            ],
            "image/png": "[encoded data removed]"
          },
          "metadata": {}
        }
      ]
    }
  ]
}